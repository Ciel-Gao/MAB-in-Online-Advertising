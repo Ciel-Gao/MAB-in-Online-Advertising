{
  "nbformat": 4,
  "nbformat_minor": 0,
  "metadata": {
    "colab": {
      "provenance": []
    },
    "kernelspec": {
      "name": "python3",
      "display_name": "Python 3"
    },
    "language_info": {
      "name": "python"
    },
    "accelerator": "TPU",
    "gpuClass": "standard"
  },
  "cells": [
    {
      "cell_type": "markdown",
      "source": [
        "# This files runs study 1, clear winner case, with social networks\n",
        "\n",
        "- Class network_MAB contains both TS and static design methods.\n",
        "- G1 is the simulated social network"
      ],
      "metadata": {
        "id": "tcNAS-Zvz0nB"
      }
    },
    {
      "cell_type": "code",
      "source": [
        "from collections import Counter\n",
        "import numpy as np\n",
        "import matplotlib.pyplot as plt\n",
        "from numpy.core.fromnumeric import repeat\n",
        "from scipy import stats\n",
        "import seaborn as sns\n",
        "import pandas as pd\n",
        "import scipy.stats as st"
      ],
      "metadata": {
        "id": "V4SSxgA6f6sQ"
      },
      "execution_count": null,
      "outputs": []
    },
    {
      "cell_type": "markdown",
      "source": [
        "## First we need to generate a social network.\n",
        "\n",
        "Data source: https://snap.stanford.edu/data/ego-Facebook.html\n",
        "\n",
        "There are 4039 nodes in total.\n",
        "\n",
        "Do 5000 simulations and check expectation and variance."
      ],
      "metadata": {
        "id": "HUdYVUbhT4VO"
      }
    },
    {
      "cell_type": "code",
      "source": [
        "!pip install networkx"
      ],
      "metadata": {
        "id": "p7GxQJ5eJLaX",
        "colab": {
          "base_uri": "https://localhost:8080/"
        },
        "outputId": "389c7016-1d25-47d2-d402-2e0af21597a2"
      },
      "execution_count": null,
      "outputs": [
        {
          "output_type": "stream",
          "name": "stdout",
          "text": [
            "Looking in indexes: https://pypi.org/simple, https://us-python.pkg.dev/colab-wheels/public/simple/\n",
            "Requirement already satisfied: networkx in /usr/local/lib/python3.8/dist-packages (2.8.8)\n"
          ]
        }
      ]
    },
    {
      "cell_type": "code",
      "source": [
        "import networkx as nx"
      ],
      "metadata": {
        "id": "LN78LjwMJQX4"
      },
      "execution_count": null,
      "outputs": []
    },
    {
      "cell_type": "code",
      "source": [
        "from google.colab import drive\n",
        "drive.mount('/content/drive')"
      ],
      "metadata": {
        "colab": {
          "base_uri": "https://localhost:8080/"
        },
        "id": "zr2clmQ1RI8j",
        "outputId": "ddc01226-9907-4f4a-8611-b19d6742a533"
      },
      "execution_count": null,
      "outputs": [
        {
          "output_type": "stream",
          "name": "stdout",
          "text": [
            "Drive already mounted at /content/drive; to attempt to forcibly remount, call drive.mount(\"/content/drive\", force_remount=True).\n"
          ]
        }
      ]
    },
    {
      "cell_type": "code",
      "source": [
        "!ls"
      ],
      "metadata": {
        "colab": {
          "base_uri": "https://localhost:8080/"
        },
        "id": "C3hnsPu9RSj9",
        "outputId": "151f889f-d479-4069-b443-2c157ecbde27"
      },
      "execution_count": null,
      "outputs": [
        {
          "output_type": "stream",
          "name": "stdout",
          "text": [
            "drive  sample_data\n"
          ]
        }
      ]
    },
    {
      "cell_type": "code",
      "source": [
        "%cd drive/MyDrive"
      ],
      "metadata": {
        "colab": {
          "base_uri": "https://localhost:8080/"
        },
        "id": "lN7lyofGRfvh",
        "outputId": "df8c3672-4315-43a3-b793-cc7941c89448"
      },
      "execution_count": null,
      "outputs": [
        {
          "output_type": "stream",
          "name": "stdout",
          "text": [
            "/content/drive/MyDrive\n"
          ]
        }
      ]
    },
    {
      "cell_type": "code",
      "source": [
        "!ls"
      ],
      "metadata": {
        "colab": {
          "base_uri": "https://localhost:8080/"
        },
        "id": "QLXvpfIsRiNd",
        "outputId": "4d7192bd-d508-4b2d-8bd8-4fd8756659d5"
      },
      "execution_count": null,
      "outputs": [
        {
          "output_type": "stream",
          "name": "stdout",
          "text": [
            " 37240759_eTranscript.pdf\n",
            " 37558593_eTranscript.pdf\n",
            " 40074140_eTranscript.pdf\n",
            "'ADA final Group 32.gdoc'\n",
            "'Basic Timesheet.gsheet'\n",
            "'Colab Notebooks'\n",
            " critique.gdoc\n",
            "'CV_Siyi Gao.pdf'\n",
            " data_cleaning_utils.py\n",
            "'data science project experience_Siyi Gao.md'\n",
            "'descriptions of an experiment.gdoc'\n",
            "'Exam 3.gdoc'\n",
            "'experimental design.gdoc'\n",
            " facebook_combined.txt\n",
            "'Final paper for psychology.gdoc'\n",
            "'Gao Siyi-CV.pdf'\n",
            " gr5067_finalproject-main\n",
            "'hw2 proposal.gdoc'\n",
            " internship.docx\n",
            "'Multi-arm bandit problem in marketing domain.gdoc'\n",
            "'Neighborhood Noise Survey.gform'\n",
            "'NLP presentation.gslides'\n",
            "'Noise project weekly summary.gdoc'\n",
            " psychology_final_paper-2022-08-09-23-33.gdoc\n",
            " __pycache__\n",
            "'Report (1).gdoc'\n",
            "'Report (2).gdoc'\n",
            " Report.gdoc\n",
            "'Siyi Gao_eTranscript.pdf'\n",
            "'Transcript1-Siyi Gao.pdf'\n",
            "'Transcript-Siyi Gao.pdf'\n",
            "'Travel and Business Expense Report Form (TBER) Rev010720 .gsheet'\n",
            "'Untitled presentation.gslides'\n",
            "'week 10 notes.gdoc'\n",
            " week8_notes.gdoc\n",
            "'Week 9 (final version).gslides'\n"
          ]
        }
      ]
    },
    {
      "cell_type": "code",
      "source": [
        "G1 =nx.read_edgelist(\"facebook_combined.txt\", create_using = nx.Graph(), nodetype=int)\n",
        "neigh = [1,20,40,65,75,90,1000]\n",
        "for i in range(len(neigh)):\n",
        "    all_neighbors = list(nx.classes.function.all_neighbors(G1,neigh[i]))\n",
        "    print(\"All neighbors for Node \", str(neigh[i]),\" ---> \", str(all_neighbors))"
      ],
      "metadata": {
        "id": "tFkJT1bwJXge",
        "colab": {
          "base_uri": "https://localhost:8080/"
        },
        "outputId": "47741e5e-b91d-4898-9e64-00bda52432ca"
      },
      "execution_count": null,
      "outputs": [
        {
          "output_type": "stream",
          "name": "stdout",
          "text": [
            "All neighbors for Node  1  --->  [0, 48, 53, 54, 73, 88, 92, 119, 126, 133, 194, 236, 280, 299, 315, 322, 346]\n",
            "All neighbors for Node  20  --->  [0, 2, 14, 41, 44, 111, 115, 149, 162, 214, 226, 312, 326, 333, 343]\n",
            "All neighbors for Node  40  --->  [0, 21, 25, 26, 29, 56, 67, 72, 77, 113, 132, 133, 141, 142, 158, 169, 172, 199, 200, 203, 212, 213, 224, 231, 232, 239, 257, 258, 265, 271, 272, 274, 277, 280, 298, 304, 307, 315, 317, 322, 325, 329, 332, 334]\n",
            "All neighbors for Node  65  --->  [0, 7, 13, 25, 82, 118, 203, 252, 261, 297, 314, 339]\n",
            "All neighbors for Node  75  --->  [0, 9, 56, 67, 85, 170, 188, 200, 258, 272, 274, 304, 322, 323]\n",
            "All neighbors for Node  90  --->  [0, 179]\n",
            "All neighbors for Node  1000  --->  [107, 924, 974, 985, 1010, 1127, 1134, 1228, 1304, 1474, 1640, 1667, 1703, 1725, 1759, 1840]\n"
          ]
        }
      ]
    },
    {
      "cell_type": "code",
      "source": [
        "!pip install scipy==1.8.0"
      ],
      "metadata": {
        "colab": {
          "base_uri": "https://localhost:8080/",
          "height": 302
        },
        "id": "D6WI0Gbw6OXV",
        "outputId": "7f8195f1-f4a2-4b91-be43-5995fef368a2"
      },
      "execution_count": null,
      "outputs": [
        {
          "output_type": "stream",
          "name": "stdout",
          "text": [
            "Looking in indexes: https://pypi.org/simple, https://us-python.pkg.dev/colab-wheels/public/simple/\n",
            "Collecting scipy==1.8.0\n",
            "  Downloading scipy-1.8.0-cp38-cp38-manylinux_2_17_x86_64.manylinux2014_x86_64.whl (41.6 MB)\n",
            "\u001b[K     |████████████████████████████████| 41.6 MB 1.4 MB/s \n",
            "\u001b[?25hRequirement already satisfied: numpy<1.25.0,>=1.17.3 in /usr/local/lib/python3.8/dist-packages (from scipy==1.8.0) (1.21.6)\n",
            "Installing collected packages: scipy\n",
            "  Attempting uninstall: scipy\n",
            "    Found existing installation: scipy 1.7.3\n",
            "    Uninstalling scipy-1.7.3:\n",
            "      Successfully uninstalled scipy-1.7.3\n",
            "Successfully installed scipy-1.8.0\n"
          ]
        },
        {
          "output_type": "display_data",
          "data": {
            "application/vnd.colab-display-data+json": {
              "pip_warning": {
                "packages": [
                  "scipy"
                ]
              }
            }
          },
          "metadata": {}
        }
      ]
    },
    {
      "cell_type": "code",
      "source": [
        "import matplotlib.pyplot as plt\n",
        "d = nx.degree(G1)"
      ],
      "metadata": {
        "id": "gSu4O1ibU-0s"
      },
      "execution_count": null,
      "outputs": []
    },
    {
      "cell_type": "code",
      "source": [
        "nx.draw(G1, pos=nx.spring_layout(G1),node_size=5,node_color='orangered',edge_color='lightgrey',width=0.6)\n",
        "plt.title(\"Social Network Graph\")"
      ],
      "metadata": {
        "colab": {
          "base_uri": "https://localhost:8080/",
          "height": 353
        },
        "id": "OjvpCbit8VZw",
        "outputId": "49fbe04b-443b-4e6c-9b29-ebb22dbbe454"
      },
      "execution_count": null,
      "outputs": [
        {
          "output_type": "execute_result",
          "data": {
            "text/plain": [
              "Text(0.5, 1.0, 'Social Network Graph')"
            ]
          },
          "metadata": {},
          "execution_count": 18
        },
        {
          "output_type": "display_data",
          "data": {
            "text/plain": [
              "<Figure size 432x288 with 1 Axes>"
            ],
            "image/png": "[encoded data removed]"
          },
          "metadata": {}
        }
      ]
    },
    {
      "cell_type": "code",
      "source": [
        "class network_MAB:\n",
        "    def __init__(self, probs, karms, nfirst, nEpisodes, nets, augment):\n",
        "        '''\n",
        "        meanings for the parameters:\n",
        "        probs: True success rate for each arm k in {1, ..., K} \n",
        "        kArms: Number of arms to choose among\n",
        "        nsamples: Number of subjects to test at each time step\n",
        "        random_seed: Store the number of seed for replication\n",
        "\n",
        "        '''\n",
        " \n",
        "        self.network = nets\n",
        "        self.sample_indexs = list(range(4039))\n",
        "        self.selection = []\n",
        "        self.left = list(range(4039))\n",
        "        self.neighbors = set()\n",
        "        self.augment = augment\n",
        "\n",
        "        self.n_obs = 4000\n",
        "        self.probs = probs\n",
        "        self.K = karms\n",
        "        self.n = int((self.n_obs-nfirst)/(nEpisodes-1)) if nEpisodes > 1 else 0\n",
        "        self.T = nEpisodes\n",
        "        self.first = nfirst\n",
        "        self.true_win_arm = np.argmax(np.asarray(probs))\n",
        "\n",
        "\n",
        "    def best_arm(self, s, asgn):\n",
        "        draws = 10000\n",
        "        # + 1 for a Beta(1, 1) prior\n",
        "        new_alpha = s+1\n",
        "        new_beta = asgn-s+1\n",
        "        selection_table = []\n",
        "        for i in range(self.K):\n",
        "            theta = np.random.beta(new_alpha[i], new_beta[i], draws)\n",
        "            selection_table.append(theta)\n",
        "\n",
        "        winning_arms = np.argmax(selection_table, axis = 0)\n",
        "        winning_prob = []\n",
        "\n",
        "        c = Counter(winning_arms)\n",
        "        winning_prob = []\n",
        "        for i in range(self.K):\n",
        "            winning_prob.append(c[i]/draws)\n",
        "\n",
        "        return np.array(winning_prob)\n",
        "\n",
        "    def experiment(self, winning_probs, sampleSize, static = False):  \n",
        "        # update sample information\n",
        "        rest = self.left\n",
        "        x = np.random.choice(rest, size=sampleSize, replace=False)\n",
        "        self.selection.append(x)\n",
        "        self.left = list(set(rest) - set(x))   \n",
        "\n",
        "        # random assignment\n",
        "\n",
        "        if not static:\n",
        "            # print(type(self.n),type(winning_probs))\n",
        "            new_assign = np.random.choice(range(self.K), size=sampleSize, p=list(winning_probs))\n",
        "        else:\n",
        "            new_assign = np.random.choice(range(self.K), size=sampleSize)\n",
        "        # count number of assigned subjects\n",
        "        c = Counter(new_assign)\n",
        "        assigned = [c[i] for i in range(self.K)]\n",
        "\n",
        "        success = [0]*self.K\n",
        "        # print('self.probs',self.probs, '\\n new assign',new_assign)\n",
        "        # new_assign: array of group assignment of each sample\n",
        "\n",
        "        # do experiment\n",
        "        for i in range(len(x)):\n",
        "            if x[i] in self.neighbors:\n",
        "                success_probs = self.probs[new_assign[i]]+ self.augment\n",
        "                success[new_assign[i]] += np.random.binomial(1,success_probs,1)[0]\n",
        "            else:\n",
        "                success_probs = self.probs[new_assign[i]]\n",
        "                success[new_assign[i]] += np.random.binomial(1,success_probs,1)[0]\n",
        "            \n",
        "        # update information again\n",
        "        new_neighbors = []\n",
        "        for i in x:\n",
        "            new_neighbors += list(nx.classes.function.all_neighbors(G1,i))      \n",
        "        \n",
        "        self.neighbors.update(set(new_neighbors))\n",
        "        # print(success)\n",
        "        return (assigned, success)\n",
        "\n",
        "    def reset(self):\n",
        "    # initialization\n",
        "        success = np.zeros((self.T, self.K))   # record the success cases of each arm at each time step\n",
        "        assigned = np.zeros((self.T, self.K)) # record the assigned cases of each arm at each time step\n",
        "        posterior_probs = 0 # estimated success rate\n",
        "        winning_probs = np.zeros((self.T, self.K)) # probability to be the true best arm\n",
        "        # rewards = np.zeros(self.T) # record the average rewards per period\n",
        "        # regrets = np.zeros(self.T) # record the regrets per period\n",
        "        self.selection = []\n",
        "        self.left = list(range(4039))\n",
        "        self.neighbors = set()\n",
        "        return (success, assigned, posterior_probs, winning_probs)\n",
        "\n",
        "    def Thompson_sampling(self):\n",
        "        # initialization\n",
        "        (success, assigned, posterior_probs, winning_probs) = self.reset()\n",
        "\n",
        "        # for round 1, samples are randomly assigned\n",
        "        # new_assign = np.random.choice(range(self.K), size=self.first)\n",
        "        assigned[0], success[0]  = self.experiment(1/self.K,self.first,static=True)\n",
        "        # print(success[0,0],assigned[0,0])\n",
        "        posterior_probs = success[0,0]/ assigned[0,0]\n",
        "        winning_probs[0] = self.best_arm(success[0], assigned[0])\n",
        "        adj_probs = success[0][0]*self.K/self.first\n",
        "        # print(adj_probs)\n",
        "        if self.T > 1:\n",
        "            count0 = 0\n",
        "            for i in range(1, self.T):              \n",
        "                # new_assign = np.random.choice(range(self.K), size=self.n, p=list(winning_probs[i-1])) # adaptive design\n",
        "                new_assigned, new_success = self.experiment(winning_probs[i-1],self.n)\n",
        "                assigned[i] = assigned[i-1]+ new_assigned\n",
        "                success[i] = success[i-1]+ new_success\n",
        "                winning_probs[i] = self.best_arm(success[i], assigned[i])\n",
        "                if winning_probs[i-1,0] == 0:\n",
        "                    count0 += 1\n",
        "                else:\n",
        "                    adj_probs += new_success[0]/winning_probs[i-1,0]/self.n\n",
        "            posterior_probs = adj_probs / (self.T-count0)\n",
        "        return (success, assigned, posterior_probs, winning_probs)\n",
        "    \n",
        "\n",
        "\n",
        "    def static(self):\n",
        "        # initialization\n",
        "        (success, assigned, posterior_probs, winning_probs) = self.reset()\n",
        "\n",
        "        # for round 1, samples are randomly assigned\n",
        "        # new_assign = np.random.choice(range(self.K), size=self.first).tolist()\n",
        "        assigned[0], success[0]  = self.experiment(1/self.K,self.first,static=True)\n",
        "        posterior_probs = success[0,0]/ assigned[0,0]\n",
        "        winning_probs[0] = self.best_arm(success[0], assigned[0])\n",
        "        adj_probs = success[0][0]*self.K/self.first\n",
        "        for i in range(1, self.T):\n",
        "            # new_assign = np.random.choice(range(self.K), size=self.n).tolist() # static design\n",
        "            new_assigned, new_success = self.experiment(1/self.K, self.n, static = True)\n",
        "            assigned[i] = assigned[i-1]+ new_assigned\n",
        "            success[i] = success[i-1]+ new_success\n",
        "            winning_probs[i] = self.best_arm(success[i], assigned[i])\n",
        "            adj_probs += new_success[0]*self.K/self.n\n",
        "        posterior_probs = adj_probs / self.T\n",
        "\n",
        "\n",
        "        return (success, assigned, posterior_probs, winning_probs)\n",
        "        \n",
        "    def do_replication(self, times, method):\n",
        "        '''\n",
        "        parameters:\n",
        "        final_regrets -- to record the final regret of each replication, in order to compare efficiency\n",
        "        final_win_arm -- to record the final win arm selected by two methods, in order to compare the accurarcy\n",
        "        final_win_probs -- to record the final probability of each arm being the best arm, in order to compare the accurarcy\n",
        "        final_assignment -- to record the final number of assigned subjects to the true best arm, comparing the exploitition\n",
        "        cum_rewards -- to record the total rewards of every replication\n",
        "        '''\n",
        "        # records of the replication\n",
        "        final_win_arm = np.zeros(times)\n",
        "        final_win_probs = np.zeros(shape = (times, self.K))\n",
        "        final_assignment = np.zeros(times) # only record the true best arm\n",
        "        estimation = np.zeros(times)\n",
        "        \n",
        "        if method == 'TS':\n",
        "            for i in range(times):\n",
        "                (success, assigned, posterior_probs, winning_probs) = self.Thompson_sampling()\n",
        "                final_win_arm[i] = np.argmax(winning_probs[-1])\n",
        "                final_win_probs[i] = winning_probs[-1]\n",
        "                final_assignment[i] = assigned[-1][self.true_win_arm]\n",
        "                estimation[i] = posterior_probs\n",
        "        else:\n",
        "            for i in range(times):\n",
        "                (success, assigned, posterior_probs, winning_probs) = self.static()\n",
        "                final_win_arm[i] = np.argmax(winning_probs[-1])\n",
        "                final_win_probs[i] = winning_probs[-1]\n",
        "                final_assignment[i] = assigned[-1][self.true_win_arm]\n",
        "                estimation[i] = posterior_probs\n",
        "\n",
        "        ate = np.mean(estimation)\n",
        "        mse = np.mean(np.square(np.subtract(estimation,self.probs[0])))\n",
        "        rmse = np.sqrt(mse)\n",
        "        # rmse = np.std(estimation,0)\n",
        "        # coverage = best_coverage(estimation, 5000,100,self.probs[0])\n",
        "        low,high=st.t.interval(0.95, len(estimation)-1, loc=np.mean(estimation), scale=st.sem(estimation))\n",
        "        win_counts = Counter(final_win_arm)\n",
        "        estimate = {\"best_selected\":win_counts[0]/times,\"ATE\":ate, \"RMSE\":rmse, \"CI\":(low,high)}\n",
        "        print(estimate)\n",
        "        return (final_win_arm, final_win_probs, final_assignment, estimation)\n",
        "    "
      ],
      "metadata": {
        "id": "RbqvA9sRPm2q"
      },
      "execution_count": null,
      "outputs": []
    },
    {
      "cell_type": "code",
      "source": [
        "# experiment 1\n",
        "k = 9 # number of treatments\n",
        "probs = [0.2] + [0.1]*8 # true value\n",
        "np.random.seed(99332)\n",
        "first = 4000\n",
        "periods = 1"
      ],
      "metadata": {
        "id": "1WLVRDTlRqOe"
      },
      "execution_count": null,
      "outputs": []
    },
    {
      "cell_type": "code",
      "source": [
        "first = 4000\n",
        "periods = 1\n",
        "sim1 = network_MAB(probs,k,first, periods,G1,0.2)\n",
        "(s1_ts_final_win_arm, s1_ts_final_win_probs, s1_ts_final_assignment, s1_ts_estimation) = sim1.do_replication(5000, \"TS\")\n",
        "# (s1_st_final_win_arm, s1_st_final_win_probs, s1_st_final_assignment, s1_st_estimation) = sim1.do_replication(5000, \"static\")"
      ],
      "metadata": {
        "colab": {
          "base_uri": "https://localhost:8080/"
        },
        "id": "ioAs08BdRp2t",
        "outputId": "7d9639ae-8729-4979-b76b-64da747b4efe"
      },
      "execution_count": null,
      "outputs": [
        {
          "output_type": "stream",
          "name": "stdout",
          "text": [
            "{'best_selected': 1.0, 'ATE': 0.1999074607335638, 'RMSE': 0.01902145997799012, 'CI': (0.19938004826200081, 0.2004348732051268)}\n"
          ]
        }
      ]
    },
    {
      "cell_type": "code",
      "source": [
        "first = 2000\n",
        "periods = 2\n",
        "sim2 = network_MAB(probs,k,first, periods,G1,0.2)\n",
        "(s2_ts_final_win_arm, s2_ts_final_win_probs, s2_ts_final_assignment, s2_ts_estimation) = sim2.do_replication(5000, \"TS\")\n",
        "(s2_st_final_win_arm, s2_st_final_win_probs, s2_st_final_assignment, s2_st_estimation) = sim2.do_replication(5000, \"static\")"
      ],
      "metadata": {
        "colab": {
          "base_uri": "https://localhost:8080/"
        },
        "id": "yuW9UJfseBNX",
        "outputId": "c9223829-5c40-48e1-894b-89f9eb89183b"
      },
      "execution_count": null,
      "outputs": [
        {
          "output_type": "stream",
          "name": "stdout",
          "text": [
            "{'best_selected': 0.9996, 'ATE': 0.29777003000996044, 'RMSE': 0.09901728214409332, 'CI': (0.2973356324654087, 0.2982044275545122)}\n",
            "{'best_selected': 0.997, 'ATE': 0.29807145, 'RMSE': 0.10136739003496144, 'CI': (0.29736055377578824, 0.2987823462242118)}\n"
          ]
        }
      ]
    },
    {
      "cell_type": "code",
      "source": [
        "first = 800\n",
        "periods = 5\n",
        "sim3 = network_MAB(probs,k,first, periods,G1,0.2)\n",
        "(s3_ts_final_win_arm, s3_ts_final_win_probs, s3_ts_final_assignment, s3_ts_estimation) = sim3.do_replication(5000, \"TS\")\n",
        "(s3_st_final_win_arm, s3_st_final_win_probs, s3_st_final_assignment, s3_st_estimation) = sim3.do_replication(5000, \"static\")"
      ],
      "metadata": {
        "colab": {
          "base_uri": "https://localhost:8080/"
        },
        "id": "jbGi64AxeLwR",
        "outputId": "c2ff53c7-4b93-4258-e6c2-9a99bf8e675f"
      },
      "execution_count": null,
      "outputs": [
        {
          "output_type": "stream",
          "name": "stdout",
          "text": [
            "{'best_selected': 0.9912, 'ATE': 0.3542996923716937, 'RMSE': 0.15870522828902023, 'CI': (0.35327004943980744, 0.3553293353035799)}\n",
            "{'best_selected': 0.9974, 'ATE': 0.35428185, 'RMSE': 0.15674220861816385, 'CI': (0.35351482788476807, 0.35504887211523195)}\n"
          ]
        }
      ]
    },
    {
      "cell_type": "code",
      "source": [
        "# Here\n",
        "first = 400\n",
        "periods = 10\n",
        "sim4 = network_MAB(probs,k,first, periods,G1,0.2)\n",
        "(s4_ts_final_win_arm, s4_ts_final_win_probs, s4_ts_final_assignment, s4_ts_estimation) = sim4.do_replication(5000, \"TS\")\n",
        "(s4_st_final_win_arm, s4_st_final_win_probs, s4_st_final_assignment, s4_st_estimation) = sim4.do_replication(5000, \"static\")"
      ],
      "metadata": {
        "colab": {
          "base_uri": "https://localhost:8080/"
        },
        "id": "t_7PqqpGenWS",
        "outputId": "ed1ef953-a595-4f62-fc61-6da6da1ab862"
      },
      "execution_count": null,
      "outputs": [
        {
          "output_type": "stream",
          "name": "stdout",
          "text": [
            "{'best_selected': 0.9762, 'ATE': 0.3708917421547082, 'RMSE': 0.18023287259156576, 'CI': (0.3693037730704623, 0.3724797112389541)}\n",
            "{'best_selected': 0.9954, 'ATE': 0.3715632, 'RMSE': 0.17392805286957017, 'CI': (0.37077063976609576, 0.3723557602339042)}\n"
          ]
        }
      ]
    },
    {
      "cell_type": "code",
      "source": [
        "first = 200\n",
        "periods = 20\n",
        "sim5 = network_MAB(probs,k,first, periods,G1,0.2)\n",
        "(s5_ts_final_win_arm, s5_ts_final_win_probs, s5_ts_final_assignment, s5_ts_estimation) = sim5.do_replication(5000, \"TS\")\n",
        "(s5_st_final_win_arm, s5_st_final_win_probs, s5_st_final_assignment, s5_st_estimation) = sim5.do_replication(5000, \"static\")"
      ],
      "metadata": {
        "colab": {
          "base_uri": "https://localhost:8080/"
        },
        "id": "Su5z4tEOewfh",
        "outputId": "8f496ee4-105f-4b47-d7aa-bb2a5dc412eb"
      },
      "execution_count": null,
      "outputs": [
        {
          "output_type": "stream",
          "name": "stdout",
          "text": [
            "{'best_selected': 0.977, 'ATE': 0.3787980276721322, 'RMSE': 0.18678828591642568, 'CI': (0.3772994230794229, 0.38029663226484156)}\n",
            "{'best_selected': 0.9946, 'ATE': 0.3790197000000001, 'RMSE': 0.1813143567812544, 'CI': (0.37822239734461244, 0.3798170026553878)}\n"
          ]
        }
      ]
    },
    {
      "cell_type": "code",
      "source": [
        "first = 80\n",
        "periods = 50\n",
        "sim6 = network_MAB(probs,k,first, periods,G1,0.2)\n",
        "(s6_ts_final_win_arm, s6_ts_final_win_probs, s6_ts_final_assignment, s6_ts_estimation) = sim6.do_replication(5000, \"TS\")\n",
        "(s6_st_final_win_arm, s6_st_final_win_probs, s6_st_final_assignment, s6_st_estimation) = sim6.do_replication(5000, \"static\")"
      ],
      "metadata": {
        "colab": {
          "base_uri": "https://localhost:8080/"
        },
        "id": "5hNWRSRHe8w_",
        "outputId": "81441346-5a5c-4d84-951f-c04014b4fee6"
      },
      "execution_count": null,
      "outputs": [
        {
          "output_type": "stream",
          "name": "stdout",
          "text": [
            "{'best_selected': 0.986, 'ATE': 0.38340219325105945, 'RMSE': 0.18713526864172128, 'CI': (0.38237094997834614, 0.38443343652377276)}\n",
            "{'best_selected': 0.995, 'ATE': 0.38386035, 'RMSE': 0.18607159505819257, 'CI': (0.3830673173965589, 0.3846533826034411)}\n"
          ]
        }
      ]
    },
    {
      "cell_type": "code",
      "source": [
        "first = 40\n",
        "periods = 100\n",
        "sim7 = network_MAB(probs,k,first, periods,G1,0.2)\n",
        "(s7_ts_final_win_arm, s7_ts_final_win_probs, s7_ts_final_assignment, s7_ts_estimation) = sim7.do_replication(5000, \"TS\")\n",
        "(s7_st_final_win_arm, s7_st_final_win_probs, s7_st_final_assignment, s7_st_estimation) = sim7.do_replication(5000, \"static\")"
      ],
      "metadata": {
        "colab": {
          "base_uri": "https://localhost:8080/"
        },
        "id": "3Vw9IpHDe5ea",
        "outputId": "6a5e1f56-73aa-4e75-9694-92843ef5c69e"
      },
      "execution_count": null,
      "outputs": [
        {
          "metadata": {
            "tags": null
          },
          "name": "stderr",
          "output_type": "stream",
          "text": [
            "<ipython-input-72-a347d553d3bd>:109: RuntimeWarning: invalid value encountered in double_scalars\n",
            "  posterior_probs = success[0,0]/ assigned[0,0]\n"
          ]
        },
        {
          "metadata": {
            "tags": null
          },
          "name": "stdout",
          "output_type": "stream",
          "text": [
            "{'best_selected': 0.9902, 'ATE': 0.38505275245730675, 'RMSE': 0.18668355002712217, 'CI': (0.38437005355879245, 0.38573545135582105)}\n"
          ]
        },
        {
          "metadata": {
            "tags": null
          },
          "name": "stderr",
          "output_type": "stream",
          "text": [
            "<ipython-input-72-a347d553d3bd>:137: RuntimeWarning: invalid value encountered in double_scalars\n",
            "  posterior_probs = success[0,0]/ assigned[0,0]\n"
          ]
        },
        {
          "output_type": "stream",
          "name": "stdout",
          "text": [
            "{'best_selected': 0.9946, 'ATE': 0.38392065000000014, 'RMSE': 0.1861782762233555, 'CI': (0.38311916274647245, 0.38472213725352783)}\n"
          ]
        }
      ]
    }
  ]
}