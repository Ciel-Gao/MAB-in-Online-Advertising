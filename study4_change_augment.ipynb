{
 "cells": [
  {
   "cell_type": "markdown",
   "id": "dc730970",
   "metadata": {},
   "source": [
    "# This file runs for study 4, change augmentation values"
   ]
  },
  {
   "cell_type": "code",
   "execution_count": 1,
   "id": "f0d209ff",
   "metadata": {},
   "outputs": [],
   "source": [
    "from collections import Counter\n",
    "import numpy as np\n",
    "import matplotlib.pyplot as plt\n",
    "from numpy.core.fromnumeric import repeat\n",
    "from scipy import stats\n",
    "import seaborn as sns\n",
    "import pandas as pd\n",
    "import scipy.stats as st\n",
    "import scipy.stats as st\n",
    "def best_coverage(data,n_trials,n_resamples,true_val):\n",
    "    xb = np.random.choice(data[:,0], (n_resamples, n_trials), replace=True)\n",
    "    low,high=st.t.interval(0.95, len(xb)-1, loc=np.mean(xb,0), scale=st.sem(xb,0))\n",
    "    print(low,high,true_val)\n",
    "    return np.sum(np.logical_and(true_val >= low, true_val <= high))/n_trials\n"
   ]
  },
  {
   "cell_type": "code",
   "execution_count": 2,
   "id": "8526e37d",
   "metadata": {},
   "outputs": [],
   "source": [
    "class network_MAB:\n",
    "    def __init__(self, probs, karms, nfirst, nEpisodes, nets, augment):\n",
    "        '''\n",
    "        meanings for the parameters:\n",
    "        probs: True success rate for each arm k in {1, ..., K} \n",
    "        kArms: Number of arms to choose among\n",
    "        nsamples: Number of subjects to test at each time step\n",
    "        random_seed: Store the number of seed for replication\n",
    "\n",
    "        '''\n",
    " \n",
    "        self.network = nets\n",
    "        self.sample_indexs = list(range(4039))\n",
    "        self.selection = []\n",
    "        self.left = list(range(4039))\n",
    "        self.neighbors = set()\n",
    "        self.augment = augment\n",
    "\n",
    "        self.n_obs = 4000\n",
    "        self.probs = probs\n",
    "        self.K = karms\n",
    "        self.n = int((self.n_obs-nfirst)/(nEpisodes-1)) if nEpisodes > 1 else 0\n",
    "        self.T = nEpisodes\n",
    "        self.first = nfirst\n",
    "        self.true_win_arm = np.argmax(np.asarray(probs))\n",
    "\n",
    "\n",
    "    def best_arm(self, s, asgn):\n",
    "        draws = 10000\n",
    "        # + 1 for a Beta(1, 1) prior\n",
    "        new_alpha = s+1\n",
    "        new_beta = asgn-s+1\n",
    "        selection_table = []\n",
    "        for i in range(self.K):\n",
    "            theta = np.random.beta(new_alpha[i], new_beta[i], draws)\n",
    "            selection_table.append(theta)\n",
    "\n",
    "        winning_arms = np.argmax(selection_table, axis = 0)\n",
    "        winning_prob = []\n",
    "\n",
    "        c = Counter(winning_arms)\n",
    "        winning_prob = []\n",
    "        for i in range(self.K):\n",
    "            winning_prob.append(c[i]/draws)\n",
    "\n",
    "        return np.array(winning_prob)\n",
    "\n",
    "    def experiment(self, winning_probs, sampleSize, static = False):  \n",
    "        # update sample information\n",
    "        rest = self.left\n",
    "        x = np.random.choice(rest, size=sampleSize, replace=False)\n",
    "        self.selection.append(x)\n",
    "        self.left = list(set(rest) - set(x))   \n",
    "\n",
    "        # random assignment\n",
    "\n",
    "        if not static:\n",
    "            # print(type(self.n),type(winning_probs))\n",
    "            new_assign = np.random.choice(range(self.K), size=sampleSize, p=list(winning_probs))\n",
    "        else:\n",
    "            new_assign = np.random.choice(range(self.K), size=sampleSize)\n",
    "        # count number of assigned subjects\n",
    "        c = Counter(new_assign)\n",
    "        assigned = [c[i] for i in range(self.K)]\n",
    "\n",
    "        success = [0]*self.K\n",
    "        # print('self.probs',self.probs, '\\n new assign',new_assign)\n",
    "        # new_assign: array of group assignment of each sample\n",
    "\n",
    "        # do experiment\n",
    "        for i in range(len(x)):\n",
    "            if x[i] in self.neighbors:\n",
    "                success_probs = self.probs[new_assign[i]]+ self.augment\n",
    "                success[new_assign[i]] += np.random.binomial(1,success_probs,1)[0]\n",
    "            else:\n",
    "                success_probs = self.probs[new_assign[i]]\n",
    "                success[new_assign[i]] += np.random.binomial(1,success_probs,1)[0]\n",
    "            \n",
    "        # update information again\n",
    "        new_neighbors = []\n",
    "        for i in x:\n",
    "            new_neighbors += list(nx.classes.function.all_neighbors(G1,i))      \n",
    "        \n",
    "        self.neighbors.update(set(new_neighbors))\n",
    "        # print(success)\n",
    "        return (assigned, success)\n",
    "\n",
    "    def reset(self):\n",
    "    # initialization\n",
    "        success = np.zeros((self.T, self.K))   # record the success cases of each arm at each time step\n",
    "        assigned = np.zeros((self.T, self.K)) # record the assigned cases of each arm at each time step\n",
    "        posterior_probs = 0 # estimated success rate\n",
    "        winning_probs = np.zeros((self.T, self.K)) # probability to be the true best arm\n",
    "        # rewards = np.zeros(self.T) # record the average rewards per period\n",
    "        # regrets = np.zeros(self.T) # record the regrets per period\n",
    "        self.selection = []\n",
    "        self.left = list(range(4039))\n",
    "        self.neighbors = set()\n",
    "        return (success, assigned, posterior_probs, winning_probs)\n",
    "\n",
    "    def Thompson_sampling(self):\n",
    "        # initialization\n",
    "        (success, assigned, posterior_probs, winning_probs) = self.reset()\n",
    "\n",
    "        # for round 1, samples are randomly assigned\n",
    "        # new_assign = np.random.choice(range(self.K), size=self.first)\n",
    "        assigned[0], success[0]  = self.experiment(1/self.K,self.first,static=True)\n",
    "        # print(success[0,0],assigned[0,0])\n",
    "        posterior_probs = success[0,0]/ assigned[0,0]\n",
    "        winning_probs[0] = self.best_arm(success[0], assigned[0])\n",
    "        adj_probs = success[0][0]*self.K/self.first\n",
    "        # print(adj_probs)\n",
    "        if self.T > 1:\n",
    "            count0 = 0\n",
    "            for i in range(1, self.T):              \n",
    "                # new_assign = np.random.choice(range(self.K), size=self.n, p=list(winning_probs[i-1])) # adaptive design\n",
    "                new_assigned, new_success = self.experiment(winning_probs[i-1],self.n)\n",
    "                assigned[i] = assigned[i-1]+ new_assigned\n",
    "                success[i] = success[i-1]+ new_success\n",
    "                winning_probs[i] = self.best_arm(success[i], assigned[i])\n",
    "                if winning_probs[i-1,0] == 0:\n",
    "                    count0 += 1\n",
    "                else:\n",
    "                    adj_probs += new_success[0]/winning_probs[i-1,0]/self.n\n",
    "            posterior_probs = adj_probs / (self.T-count0)\n",
    "        return (success, assigned, posterior_probs, winning_probs)\n",
    "    \n",
    "\n",
    "\n",
    "    def static(self):\n",
    "        # initialization\n",
    "        (success, assigned, posterior_probs, winning_probs) = self.reset()\n",
    "\n",
    "        # for round 1, samples are randomly assigned\n",
    "        # new_assign = np.random.choice(range(self.K), size=self.first).tolist()\n",
    "        assigned[0], success[0]  = self.experiment(1/self.K,self.first,static=True)\n",
    "        posterior_probs = success[0,0]/ assigned[0,0]\n",
    "        winning_probs[0] = self.best_arm(success[0], assigned[0])\n",
    "        adj_probs = success[0][0]*self.K/self.first\n",
    "        for i in range(1, self.T):\n",
    "            # new_assign = np.random.choice(range(self.K), size=self.n).tolist() # static design\n",
    "            new_assigned, new_success = self.experiment(1/self.K, self.n, static = True)\n",
    "            assigned[i] = assigned[i-1]+ new_assigned\n",
    "            success[i] = success[i-1]+ new_success\n",
    "            winning_probs[i] = self.best_arm(success[i], assigned[i])\n",
    "            adj_probs += new_success[0]*self.K/self.n\n",
    "        posterior_probs = adj_probs / self.T\n",
    "\n",
    "\n",
    "        return (success, assigned, posterior_probs, winning_probs)\n",
    "        \n",
    "    def do_replication(self, times, method):\n",
    "        '''\n",
    "        parameters:\n",
    "        final_regrets -- to record the final regret of each replication, in order to compare efficiency\n",
    "        final_win_arm -- to record the final win arm selected by two methods, in order to compare the accurarcy\n",
    "        final_win_probs -- to record the final probability of each arm being the best arm, in order to compare the accurarcy\n",
    "        final_assignment -- to record the final number of assigned subjects to the true best arm, comparing the exploitition\n",
    "        cum_rewards -- to record the total rewards of every replication\n",
    "        '''\n",
    "        # records of the replication\n",
    "        final_win_arm = np.zeros(times)\n",
    "        final_win_probs = np.zeros(shape = (times, self.K))\n",
    "        final_assignment = np.zeros(times) # only record the true best arm\n",
    "        estimation = np.zeros(times)\n",
    "        \n",
    "        if method == 'TS':\n",
    "            for i in range(times):\n",
    "                (success, assigned, posterior_probs, winning_probs) = self.Thompson_sampling()\n",
    "                final_win_arm[i] = np.argmax(winning_probs[-1])\n",
    "                final_win_probs[i] = winning_probs[-1]\n",
    "                final_assignment[i] = assigned[-1][self.true_win_arm]\n",
    "                estimation[i] = posterior_probs\n",
    "        else:\n",
    "            for i in range(times):\n",
    "                (success, assigned, posterior_probs, winning_probs) = self.static()\n",
    "                final_win_arm[i] = np.argmax(winning_probs[-1])\n",
    "                final_win_probs[i] = winning_probs[-1]\n",
    "                final_assignment[i] = assigned[-1][self.true_win_arm]\n",
    "                estimation[i] = posterior_probs\n",
    "\n",
    "        ate = np.mean(estimation)\n",
    "        mse = np.mean(np.square(np.subtract(estimation,self.probs[0])))\n",
    "        rmse = np.sqrt(mse)\n",
    "        # rmse = np.std(estimation,0)\n",
    "        # coverage = best_coverage(estimation, 5000,100,self.probs[0])\n",
    "        low,high=st.t.interval(0.95, len(estimation)-1, loc=np.mean(estimation), scale=st.sem(estimation))\n",
    "        win_counts = Counter(final_win_arm)\n",
    "        estimate = {\"best_selected\":win_counts[0]/times,\"ATE\":ate, \"RMSE\":rmse, \"CI\":(low,high)}\n",
    "        print(estimate)\n",
    "        return (final_win_arm, final_win_probs, final_assignment, estimation)\n",
    "    "
   ]
  },
  {
   "cell_type": "code",
   "execution_count": 3,
   "id": "d2cf6405",
   "metadata": {},
   "outputs": [
    {
     "name": "stdout",
     "output_type": "stream",
     "text": [
      "Requirement already satisfied: networkx in /Users/gaosiyi/opt/anaconda3/lib/python3.8/site-packages (2.5)\n",
      "Requirement already satisfied: decorator>=4.3.0 in /Users/gaosiyi/opt/anaconda3/lib/python3.8/site-packages (from networkx) (5.0.6)\n",
      "Note: you may need to restart the kernel to use updated packages.\n"
     ]
    }
   ],
   "source": [
    "%pip install networkx"
   ]
  },
  {
   "cell_type": "code",
   "execution_count": 4,
   "id": "20913416",
   "metadata": {},
   "outputs": [],
   "source": [
    "import networkx as nx"
   ]
  },
  {
   "cell_type": "code",
   "execution_count": 5,
   "id": "f24c8252",
   "metadata": {},
   "outputs": [
    {
     "name": "stdout",
     "output_type": "stream",
     "text": [
      "All neighbors for Node  1  --->  [0, 48, 53, 54, 73, 88, 92, 119, 126, 133, 194, 236, 280, 299, 315, 322, 346]\n",
      "All neighbors for Node  20  --->  [0, 2, 14, 41, 44, 111, 115, 149, 162, 214, 226, 312, 326, 333, 343]\n",
      "All neighbors for Node  40  --->  [0, 21, 25, 26, 29, 56, 67, 72, 77, 113, 132, 133, 141, 142, 158, 169, 172, 199, 200, 203, 212, 213, 224, 231, 232, 239, 257, 258, 265, 271, 272, 274, 277, 280, 298, 304, 307, 315, 317, 322, 325, 329, 332, 334]\n",
      "All neighbors for Node  65  --->  [0, 7, 13, 25, 82, 118, 203, 252, 261, 297, 314, 339]\n",
      "All neighbors for Node  75  --->  [0, 9, 56, 67, 85, 170, 188, 200, 258, 272, 274, 304, 322, 323]\n",
      "All neighbors for Node  90  --->  [0, 179]\n",
      "All neighbors for Node  1000  --->  [107, 924, 974, 985, 1010, 1127, 1134, 1228, 1304, 1474, 1640, 1667, 1703, 1725, 1759, 1840]\n"
     ]
    }
   ],
   "source": [
    "G1 =nx.read_edgelist(\"facebook_combined.txt\", create_using = nx.Graph(), nodetype=int)\n",
    "neigh = [1,20,40,65,75,90,1000]\n",
    "for i in range(len(neigh)):\n",
    "    all_neighbors = list(nx.classes.function.all_neighbors(G1,neigh[i]))\n",
    "    print(\"All neighbors for Node \", str(neigh[i]),\" ---> \", str(all_neighbors))"
   ]
  },
  {
   "cell_type": "code",
   "execution_count": 6,
   "id": "0a6b8f48",
   "metadata": {},
   "outputs": [],
   "source": [
    "k = 9 # number of treatments\n",
    "np.random.seed(99332)\n",
    "periods = 10\n",
    "probs = [0.2] +[0.1]*8 # true value\n",
    "first = 400"
   ]
  },
  {
   "cell_type": "code",
   "execution_count": 7,
   "id": "20d6c86a",
   "metadata": {},
   "outputs": [
    {
     "name": "stdout",
     "output_type": "stream",
     "text": [
      "{'best_selected': 0.9996, 'ATE': 0.20859919067167862, 'RMSE': 0.014028974409540668, 'CI': (0.20829184463129682, 0.20890653671206041)}\n",
      "{'best_selected': 0.9998, 'ATE': 0.20891565, 'RMSE': 0.02298002583767042, 'CI': (0.20832837999046394, 0.20950292000953608)}\n"
     ]
    }
   ],
   "source": [
    "# experiment 1\n",
    "sim1 = network_MAB(probs,k,first, periods,G1,0.01)\n",
    "(s1_ts_final_win_arm, s1_ts_final_win_probs, s1_ts_final_assignment, s1_ts_estimation) = sim1.do_replication(5000, \"TS\")\n",
    "(s1_st_final_win_arm, s1_st_final_win_probs, s1_st_final_assignment, s1_st_estimation) = sim1.do_replication(5000, \"static\")"
   ]
  },
  {
   "cell_type": "code",
   "execution_count": 8,
   "id": "e57d438e",
   "metadata": {},
   "outputs": [
    {
     "name": "stdout",
     "output_type": "stream",
     "text": [
      "{'best_selected': 0.9986, 'ATE': 0.24280287790404778, 'RMSE': 0.044660445899802254, 'CI': (0.24244945309206115, 0.24315630271603442)}\n",
      "{'best_selected': 0.9998, 'ATE': 0.2425716, 'RMSE': 0.04837599714734571, 'CI': (0.24193453189636432, 0.24320866810363567)}\n"
     ]
    }
   ],
   "source": [
    "# experiment 2\n",
    "sim2 = network_MAB(probs,k,first, periods,G1,0.05)\n",
    "(s2_ts_final_win_arm, s2_ts_final_win_probs, s2_ts_final_assignment, s2_ts_estimation) = sim2.do_replication(5000, \"TS\")\n",
    "(s2_st_final_win_arm, s2_st_final_win_probs, s2_st_final_assignment, s2_st_estimation) = sim2.do_replication(5000, \"static\")"
   ]
  },
  {
   "cell_type": "code",
   "execution_count": 9,
   "id": "012093d6",
   "metadata": {},
   "outputs": [
    {
     "name": "stdout",
     "output_type": "stream",
     "text": [
      "{'best_selected': 0.9958, 'ATE': 0.2853849976012014, 'RMSE': 0.08704494606458804, 'CI': (0.2849158977098073, 0.2858540974925955)}\n",
      "{'best_selected': 0.9982, 'ATE': 0.28521225000000006, 'RMSE': 0.08870632002568925, 'CI': (0.28452873119536226, 0.28589576880463785)}\n"
     ]
    }
   ],
   "source": [
    "# experiment 3\n",
    "sim3 = network_MAB(probs,k,first, periods,G1,0.1)\n",
    "(s3_ts_final_win_arm, s3_ts_final_win_probs, s3_ts_final_assignment, s3_ts_estimation) = sim3.do_replication(5000, \"TS\")\n",
    "(s3_st_final_win_arm, s3_st_final_win_probs, s3_st_final_assignment, s3_st_estimation) = sim3.do_replication(5000, \"static\")\n"
   ]
  },
  {
   "cell_type": "code",
   "execution_count": 10,
   "id": "0ee27c06",
   "metadata": {},
   "outputs": [
    {
     "name": "stdout",
     "output_type": "stream",
     "text": [
      "{'best_selected': 0.952, 'ATE': 0.4543206729383608, 'RMSE': 0.28912757044317294, 'CI': (0.45050717567770693, 0.4581341701990147)}\n",
      "{'best_selected': 0.9928, 'ATE': 0.45672119999999994, 'RMSE': 0.258621432744852, 'CI': (0.45585351293830867, 0.4575888870616912)}\n"
     ]
    }
   ],
   "source": [
    "# experiment 4\n",
    "sim4 = network_MAB(probs,k,first, periods,G1,0.3)\n",
    "(s4_ts_final_win_arm, s4_ts_final_win_probs, s4_ts_final_assignment, s4_ts_estimation) = sim4.do_replication(5000, \"TS\")\n",
    "(s4_st_final_win_arm, s4_st_final_win_probs, s4_st_final_assignment, s4_st_estimation) = sim4.do_replication(5000, \"static\")\n"
   ]
  },
  {
   "cell_type": "code",
   "execution_count": 11,
   "id": "30b05451",
   "metadata": {},
   "outputs": [
    {
     "name": "stdout",
     "output_type": "stream",
     "text": [
      "{'best_selected': 0.8876, 'ATE': 0.6104910244837464, 'RMSE': 0.464861738521415, 'CI': (0.6044419942017254, 0.6165400547657673)}\n",
      "{'best_selected': 0.9922, 'ATE': 0.6295702499999999, 'RMSE': 0.43109676441316513, 'CI': (0.628565218390995, 0.6305752816090048)}\n"
     ]
    }
   ],
   "source": [
    "# experiment 5\n",
    "sim5 = network_MAB(probs,k,first, periods,G1,0.5)\n",
    "(s5_ts_final_win_arm, s5_ts_final_win_probs, s5_ts_final_assignment, s5_ts_estimation) = sim5.do_replication(5000, \"TS\")\n",
    "(s5_st_final_win_arm, s5_st_final_win_probs, s5_st_final_assignment, s5_st_estimation) = sim5.do_replication(5000, \"static\")\n"
   ]
  },
  {
   "cell_type": "code",
   "execution_count": 12,
   "id": "212c6146",
   "metadata": {},
   "outputs": [
    {
     "name": "stdout",
     "output_type": "stream",
     "text": [
      "{'best_selected': 0.8414, 'ATE': 0.7652812426221796, 'RMSE': 0.6264567479544063, 'CI': (0.7577945351943389, 0.7727679500500202)}\n",
      "{'best_selected': 0.9976, 'ATE': 0.8001045, 'RMSE': 0.6014739914160877, 'CI': (0.7989797204362161, 0.8012292795637839)}\n"
     ]
    }
   ],
   "source": [
    "# experiment 5\n",
    "sim6 = network_MAB(probs,k,first, periods,G1,0.7)\n",
    "(s6_ts_final_win_arm, s6_ts_final_win_probs, s6_ts_final_assignment, s6_ts_estimation) = sim6.do_replication(5000, \"TS\")\n",
    "(s6_st_final_win_arm, s6_st_final_win_probs, s6_st_final_assignment, s6_st_estimation) = sim6.do_replication(5000, \"static\")\n"
   ]
  },
  {
   "cell_type": "code",
   "execution_count": null,
   "id": "16f17cd6",
   "metadata": {},
   "outputs": [],
   "source": []
  }
 ],
 "metadata": {
  "kernelspec": {
   "display_name": "Python 3",
   "language": "python",
   "name": "python3"
  },
  "language_info": {
   "codemirror_mode": {
    "name": "ipython",
    "version": 3
   },
   "file_extension": ".py",
   "mimetype": "text/x-python",
   "name": "python",
   "nbconvert_exporter": "python",
   "pygments_lexer": "ipython3",
   "version": "3.8.8"
  }
 },
 "nbformat": 4,
 "nbformat_minor": 5
}
