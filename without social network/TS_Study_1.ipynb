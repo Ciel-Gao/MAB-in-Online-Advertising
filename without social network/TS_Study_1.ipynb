{
  "cells": [
    {
      "cell_type": "markdown",
      "metadata": {
        "id": "UQHmkPMPdB8g"
      },
      "source": [
        "# Simulation plans\n",
        "\n",
        "## Fixed parameters:\n",
        "\n",
        "9 arms\n",
        "\n",
        "## different true convention rates:\n",
        "\n",
        "- case 1: 1 clear winner, [0.20, 0.1, 0.1,0.1, 0.1, 0.1,0.1, 0.1, 0.1]\n",
        "- case 2: no clear winner, [0.11, 0.1, 0.1,0.1, 0.1, 0.1,0.1, 0.1, 0.1]\n",
        "- case 3: 2 clear winners but 1 best, [0.20, 0.18, 0.1,0.1, 0.1, 0.1,0.1, 0.1, 0.1]\n",
        "\n",
        "1. Varying number of batches\n",
        "\n",
        "\n",
        "2. Varying value of best arm\n",
        "\n",
        "\n",
        "3. Varying value of the first batch size\n"
      ]
    },
    {
      "cell_type": "markdown",
      "source": [
        "## This file is study 1,  clear winner case, no spillover effects\n",
        "\n",
        "- All the static design and TS algorithm is contained in class MAB.\n",
        "- Since it takes a long time to run 5000 replications for each experiment, I seperate experiments into different files."
      ],
      "metadata": {
        "id": "EoD800zUEzdx"
      }
    },
    {
      "cell_type": "code",
      "execution_count": 1,
      "metadata": {
        "id": "zwrJDmPgbhn3"
      },
      "outputs": [],
      "source": [
        "from collections import Counter\n",
        "import numpy as np\n",
        "import matplotlib.pyplot as plt\n",
        "from numpy.core.fromnumeric import repeat\n",
        "from scipy import stats\n",
        "import seaborn as sns\n",
        "import pandas as pd\n",
        "import seaborn as sns\n",
        "import scipy.stats as st"
      ]
    },
    {
      "cell_type": "code",
      "execution_count": null,
      "metadata": {
        "colab": {
          "background_save": true
        },
        "id": "oHR_ARTK2m5j"
      },
      "outputs": [],
      "source": [
        "def best_coverage(data,n_trials,n_resamples,true_val):\n",
        "    xb = np.random.choice(data, (n_resamples, n_trials), replace=True)\n",
        "    low,high=st.t.interval(0.95, len(xb)-1, loc=np.mean(xb), scale=st.sem(xb))\n",
        "    return np.sum(np.logical_and(true_val >= low, true_val <= high))/n_trials\n"
      ]
    },
    {
      "cell_type": "code",
      "execution_count": null,
      "metadata": {
        "colab": {
          "background_save": true
        },
        "id": "eWmKTk-ubmOv"
      },
      "outputs": [],
      "source": [
        "class MAB:\n",
        "    def __init__(self, probs, karms, nfirst, nEpisodes):\n",
        "        '''\n",
        "        meanings for the parameters:\n",
        "        probs: True success rate for each arm k in {1, ..., K} \n",
        "        kArms: Number of arms to choose among\n",
        "        nsamples: Number of subjects to test at each time step\n",
        "\n",
        "        '''\n",
        "        self.n_obs = 4000\n",
        "        self.probs = probs\n",
        "        self.K = karms\n",
        "        self.n = int((self.n_obs-nfirst)/(nEpisodes-1)) if nEpisodes > 1 else 0\n",
        "        self.T = nEpisodes\n",
        "        self.first = nfirst\n",
        "        self.true_win_arm = np.argmax(np.asarray(probs))\n",
        "\n",
        "    def best_arm(self, s:np.ndarray, asgn):\n",
        "        draws = 10000\n",
        "        # + 1 for a Beta(1, 1) prior\n",
        "        new_alpha = s+1\n",
        "        new_beta = asgn-s+1\n",
        "        selection_table = []\n",
        "        for i in range(self.K):\n",
        "            theta = np.random.beta(new_alpha[i], new_beta[i], draws)\n",
        "            selection_table.append(theta)\n",
        "\n",
        "        winning_arms = np.argmax(selection_table, axis = 0)\n",
        "        winning_prob = []\n",
        "        \n",
        "#         for i in range(self.K):\n",
        "#             winning_prob.append(winning_arms.count(i)/draws)\n",
        "        c = Counter(winning_arms)\n",
        "        winning_prob = np.zeros(self.K)\n",
        "        for i in range(self.K):\n",
        "            winning_prob[i] = c[i]/draws\n",
        "\n",
        "        return winning_prob\n",
        "\n",
        "\n",
        "    def reset(self):\n",
        "        # initialization\n",
        "        success = np.zeros((self.T, self.K))   # record the success cases of each arm at each time step\n",
        "        assigned = np.zeros((self.T, self.K)) # record the assigned cases of each arm at each time step\n",
        "        posterior_probs = 0 # estimated success rate\n",
        "        winning_probs = np.zeros((self.T, self.K)) # probability to be the true best arm\n",
        "        # rewards = np.zeros(self.T) # record the average rewards per period\n",
        "        # regrets = np.zeros(self.T) # record the regrets per period\n",
        "        return (success, assigned, posterior_probs, winning_probs)\n",
        "\n",
        "\n",
        "    def do_experiment(self, assignments):\n",
        "        c = Counter(assignments)\n",
        "        assigned = [c[i] for i in range(self.K)]\n",
        "        success = [np.random.binomial(assigned[i], self.probs[i]) for i in range(self.K)]\n",
        "        return assigned, success\n",
        "\n",
        "\n",
        "    def Thompson_sampling(self):\n",
        "        # initialization\n",
        "        (success, assigned, posterior_probs, winning_probs) = self.reset()\n",
        "\n",
        "        # for round 1, samples are randomly assigned\n",
        "        new_assign = np.random.choice(range(self.K), size=self.first)\n",
        "        assigned[0], success[0]  = self.do_experiment(new_assign)\n",
        "        posterior_probs = success[0,0]/ assigned[0,0]\n",
        "        winning_probs[0] = self.best_arm(success[0], assigned[0])\n",
        "        adj_probs = success[0][0]*self.K/self.first\n",
        "        # print(adj_probs)\n",
        "        if self.T > 1:\n",
        "            count0 = 0\n",
        "            for i in range(1, self.T):              \n",
        "                new_assign = np.random.choice(range(self.K), size=self.n, p=list(winning_probs[i-1])) # adaptive design\n",
        "                new_assigned, new_success = self.do_experiment(new_assign)\n",
        "                assigned[i] = assigned[i-1]+ new_assigned\n",
        "                success[i] = success[i-1]+ new_success\n",
        "                winning_probs[i] = self.best_arm(success[i], assigned[i])\n",
        "                if winning_probs[i-1,0] == 0:\n",
        "                    count0 += 1\n",
        "                else:\n",
        "                    adj_probs += new_success[0]/winning_probs[i-1,0]/self.n\n",
        "            posterior_probs = adj_probs / (self.T-count0)\n",
        "        return (success, assigned, posterior_probs, winning_probs)\n",
        "    \n",
        "\n",
        "\n",
        "    def static(self):\n",
        "        # initialization\n",
        "        (success, assigned, posterior_probs, winning_probs) = self.reset()\n",
        "\n",
        "        # for round 1, samples are randomly assigned\n",
        "        new_assign = np.random.choice(range(self.K), size=self.first).tolist()\n",
        "        assigned[0], success[0]  = self.do_experiment(new_assign)\n",
        "        posterior_probs = success[0,0]/ assigned[0,0]\n",
        "        winning_probs[0] = self.best_arm(success[0], assigned[0])\n",
        "        adj_probs = success[0][0]*self.K/self.first\n",
        "        for i in range(1, self.T):\n",
        "            new_assign = np.random.choice(range(self.K), size=self.n).tolist() # static design\n",
        "            new_assigned, new_success = self.do_experiment(new_assign)\n",
        "            assigned[i] = assigned[i-1]+ new_assigned\n",
        "            success[i] = success[i-1]+ new_success\n",
        "            winning_probs[i] = self.best_arm(success[i], assigned[i])\n",
        "            adj_probs += new_success[0]*self.K/self.n\n",
        "        posterior_probs = adj_probs / self.T\n",
        "\n",
        "\n",
        "        return (success, assigned, posterior_probs, winning_probs)\n",
        "        \n",
        "    def do_replication(self, times, method):\n",
        "        '''\n",
        "        parameters:\n",
        "        final_regrets -- to record the final regret of each replication, in order to compare efficiency\n",
        "        final_win_arm -- to record the final win arm selected by two methods, in order to compare the accurarcy\n",
        "        final_win_probs -- to record the final probability of each arm being the best arm, in order to compare the accurarcy\n",
        "        final_assignment -- to record the final number of assigned subjects to the true best arm, comparing the exploitition\n",
        "        cum_rewards -- to record the total rewards of every replication\n",
        "        '''\n",
        "        # records of the replication\n",
        "        final_win_arm = np.zeros(times)\n",
        "        final_win_probs = np.zeros(shape = (times, self.K))\n",
        "        final_assignment = np.zeros(times) # only record the true best arm\n",
        "        estimation = np.zeros(times)\n",
        "        \n",
        "        if method == 'TS':\n",
        "            for i in range(times):\n",
        "                (success, assigned, posterior_probs, winning_probs) = self.Thompson_sampling()\n",
        "                final_win_arm[i] = np.argmax(winning_probs[-1])\n",
        "                final_win_probs[i] = winning_probs[-1]\n",
        "                final_assignment[i] = assigned[-1][self.true_win_arm]\n",
        "                estimation[i] = posterior_probs\n",
        "        else:\n",
        "            for i in range(times):\n",
        "                (success, assigned, posterior_probs, winning_probs) = self.static()\n",
        "                final_win_arm[i] = np.argmax(winning_probs[-1])\n",
        "                final_win_probs[i] = winning_probs[-1]\n",
        "                final_assignment[i] = assigned[-1][self.true_win_arm]\n",
        "                estimation[i] = posterior_probs\n",
        "\n",
        "        ate = np.mean(estimation)\n",
        "        mse = np.mean(np.square(np.subtract(estimation,self.probs[0])))\n",
        "        rmse = np.sqrt(mse)\n",
        "        # rmse = np.std(estimation,0)\n",
        "        # coverage = best_coverage(estimation, 5000,100,self.probs[0])\n",
        "        low,high=st.t.interval(0.95, len(estimation)-1, loc=np.mean(estimation), scale=st.sem(estimation))\n",
        "        win_counts = Counter(final_win_arm)\n",
        "        estimate = {\"best_selected\":win_counts[0]/times,\"ATE\":ate, \"RMSE\":rmse, \"Coverage\":(low,high)}\n",
        "        print(estimate)\n",
        "        return (final_win_arm, final_win_probs, final_assignment, estimation)\n"
      ]
    },
    {
      "cell_type": "code",
      "execution_count": null,
      "metadata": {
        "id": "uS2dfxncbxnm"
      },
      "outputs": [],
      "source": [
        "def draw_rep_plots(static_agent_results, ts_agent_results, stages, character):\n",
        "    # Initialise \n",
        "    \n",
        "    columns = ['Best_Arm','Arm2','Arm3','Arm4','Arm5','Arm6','Arm7','Arm8','Arm9']\n",
        "    indexs = [\"r_\"+str(i) for i in stages]\n",
        "    \n",
        "    # create dataframe\n",
        "    ddf1 = pd.DataFrame(ts_agent_results, columns=columns)\n",
        "    ddf1['periods'] = indexs\n",
        "    ddf2 = pd.DataFrame(static_agent_results, columns=columns)\n",
        "    ddf2['periods'] = indexs\n",
        "\n",
        "    df1 = pd.melt(ddf1, id_vars='periods', value_vars=columns,\n",
        "             var_name='arms', value_name=character)\n",
        "    \n",
        "    df2 = pd.melt(ddf2, id_vars='periods', value_vars=columns,\n",
        "             var_name='arms', value_name=character)\n",
        "    \n",
        "    concatenated = pd.concat([df1.assign(dataset='ts_agent'), df2.assign(dataset='static_agent')])\n",
        "    \n",
        "    # plot\n",
        "    g = sns.FacetGrid(concatenated, col=\"dataset\", margin_titles = True, height=6)\n",
        "    g.map(sns.boxplot, 'arms', character)\n",
        "    g.add_legend()"
      ]
    },
    {
      "cell_type": "markdown",
      "metadata": {
        "id": "uKF9031LkPcy"
      },
      "source": [
        "# Clear winner"
      ]
    },
    {
      "cell_type": "code",
      "execution_count": null,
      "metadata": {
        "colab": {
          "background_save": true
        },
        "id": "tIPG3fGHbqOq"
      },
      "outputs": [],
      "source": [
        "# experiment 1\n",
        "k = 9 # number of treatments\n",
        "probs = [0.2] + [0.1]*8 # true value\n",
        "np.random.seed(99332)\n",
        "first = 4000\n",
        "periods = 1"
      ]
    },
    {
      "cell_type": "code",
      "execution_count": null,
      "metadata": {
        "colab": {
          "base_uri": "https://localhost:8080/"
        },
        "id": "TVMkQLwobtpy",
        "outputId": "5d71b55e-eaa6-4d16-fbaa-3532d8044330"
      },
      "outputs": [
        {
          "name": "stdout",
          "output_type": "stream",
          "text": [
            "{'best_selected': 1.0, 'ATE': 0.19989398231642014, 'RMSE': 0.018972875446102395, 'Coverage': (0.1993679189470593, 0.20042004568578098)}\n",
            "{'best_selected': 0.9996, 'ATE': 0.20014875000000001, 'RMSE': 0.021044867842303024, 'Coverage': (0.19956524169619227, 0.20073225830380775)}\n"
          ]
        }
      ],
      "source": [
        "sim1 = MAB(probs,k,first, periods)\n",
        "(s1_ts_final_win_arm, s1_ts_final_win_probs, s1_ts_final_assignment, s1_ts_estimation) = sim1.do_replication(5000, \"TS\")\n",
        "(s1_st_final_win_arm, s1_st_final_win_probs, s1_st_final_assignment, s1_st_estimation) = sim1.do_replication(5000, \"static\")"
      ]
    },
    {
      "cell_type": "code",
      "execution_count": null,
      "metadata": {
        "colab": {
          "base_uri": "https://localhost:8080/"
        },
        "id": "IoelCY1YizBT",
        "outputId": "e6a066e5-c1bc-438c-86f9-07436da5b5cd"
      },
      "outputs": [
        {
          "name": "stdout",
          "output_type": "stream",
          "text": [
            "{'best_selected': 1.0, 'ATE': 0.19987570954545, 'RMSE': 0.015716320992066563, 'Coverage': (0.19943994790628117, 0.20031147118461884)}\n"
          ]
        }
      ],
      "source": [
        "# experiment 3\n",
        "k = 9 # number of treatments\n",
        "probs = [0.2] + [0.1]*8 # true value\n",
        "np.random.seed(99332)\n",
        "first = 2000\n",
        "periods = 2\n",
        "sim3 = MAB(probs,k,first, periods)\n",
        "(s3_ts_final_win_arm, s3_ts_final_win_probs, s3_ts_final_assignment, s3_ts_estimation) = sim3.do_replication(5000, \"TS\")\n",
        "# (s3_st_final_win_arm, s3_st_final_win_probs, s3_st_final_assignment, s3_st_estimation) = sim3.do_replication(5000, \"static\")\n"
      ]
    },
    {
      "cell_type": "code",
      "execution_count": null,
      "metadata": {
        "colab": {
          "base_uri": "https://localhost:8080/"
        },
        "id": "BB3ZUanEizn3",
        "outputId": "8dcafee2-4ec8-41f7-a228-3290c7930cc1"
      },
      "outputs": [
        {
          "name": "stdout",
          "output_type": "stream",
          "text": [
            "{'best_selected': 0.9998, 'ATE': 0.19969761574543823, 'RMSE': 0.012129166978215295, 'Coverage': (0.1993614080435539, 0.20003382344732257)}\n"
          ]
        }
      ],
      "source": [
        "# experiment 4\n",
        "k = 9 # number of treatments\n",
        "probs = [0.2] + [0.1]*8 # true value\n",
        "np.random.seed(99332)\n",
        "first = 800\n",
        "periods = 5\n",
        "sim4 = MAB(probs,k,first, periods)\n",
        "(s4_ts_final_win_arm, s4_ts_final_win_probs, s4_ts_final_assignment, s4_ts_estimation) = sim4.do_replication(5000, \"TS\")\n",
        "# (s4_st_final_win_arm, s4_st_final_win_probs, s4_st_final_assignment, s4_st_estimation) = sim4.do_replication(5000, \"static\")\n"
      ]
    },
    {
      "cell_type": "code",
      "execution_count": null,
      "metadata": {
        "colab": {
          "base_uri": "https://localhost:8080/",
          "height": 375
        },
        "id": "aDsfObh-jpGh",
        "outputId": "00f103ba-b7a2-4873-9ccd-0338b2962c83"
      },
      "outputs": [
        {
          "ename": "KeyboardInterrupt",
          "evalue": "ignored",
          "output_type": "error",
          "traceback": [
            "\u001b[0;31m---------------------------------------------------------------------------\u001b[0m",
            "\u001b[0;31mKeyboardInterrupt\u001b[0m                         Traceback (most recent call last)",
            "\u001b[0;32m<ipython-input-80-cbb53e281c22>\u001b[0m in \u001b[0;36m<module>\u001b[0;34m\u001b[0m\n\u001b[1;32m      6\u001b[0m \u001b[0mperiods\u001b[0m \u001b[0;34m=\u001b[0m \u001b[0;36m10\u001b[0m\u001b[0;34m\u001b[0m\u001b[0;34m\u001b[0m\u001b[0m\n\u001b[1;32m      7\u001b[0m \u001b[0msim5\u001b[0m \u001b[0;34m=\u001b[0m \u001b[0mMAB\u001b[0m\u001b[0;34m(\u001b[0m\u001b[0mprobs\u001b[0m\u001b[0;34m,\u001b[0m\u001b[0mk\u001b[0m\u001b[0;34m,\u001b[0m\u001b[0mfirst\u001b[0m\u001b[0;34m,\u001b[0m \u001b[0mperiods\u001b[0m\u001b[0;34m)\u001b[0m\u001b[0;34m\u001b[0m\u001b[0;34m\u001b[0m\u001b[0m\n\u001b[0;32m----> 8\u001b[0;31m \u001b[0;34m(\u001b[0m\u001b[0ms5_ts_final_win_arm\u001b[0m\u001b[0;34m,\u001b[0m \u001b[0ms5_ts_final_win_probs\u001b[0m\u001b[0;34m,\u001b[0m \u001b[0ms5_ts_final_assignment\u001b[0m\u001b[0;34m,\u001b[0m \u001b[0ms5_ts_estimation\u001b[0m\u001b[0;34m)\u001b[0m \u001b[0;34m=\u001b[0m \u001b[0msim5\u001b[0m\u001b[0;34m.\u001b[0m\u001b[0mdo_replication\u001b[0m\u001b[0;34m(\u001b[0m\u001b[0;36m5000\u001b[0m\u001b[0;34m,\u001b[0m \u001b[0;34m\"TS\"\u001b[0m\u001b[0;34m)\u001b[0m\u001b[0;34m\u001b[0m\u001b[0;34m\u001b[0m\u001b[0m\n\u001b[0m\u001b[1;32m      9\u001b[0m \u001b[0;31m# (s5_st_final_win_arm, s5_st_final_win_probs, s5_st_final_assignment, s5_st_estimation) = sim5.do_replication(5000, \"static\")\u001b[0m\u001b[0;34m\u001b[0m\u001b[0;34m\u001b[0m\u001b[0;34m\u001b[0m\u001b[0m\n",
            "\u001b[0;32m<ipython-input-79-f0ea6f6ed63b>\u001b[0m in \u001b[0;36mdo_replication\u001b[0;34m(self, times, method)\u001b[0m\n\u001b[1;32m    124\u001b[0m         \u001b[0;32mif\u001b[0m \u001b[0mmethod\u001b[0m \u001b[0;34m==\u001b[0m \u001b[0;34m'TS'\u001b[0m\u001b[0;34m:\u001b[0m\u001b[0;34m\u001b[0m\u001b[0;34m\u001b[0m\u001b[0m\n\u001b[1;32m    125\u001b[0m             \u001b[0;32mfor\u001b[0m \u001b[0mi\u001b[0m \u001b[0;32min\u001b[0m \u001b[0mrange\u001b[0m\u001b[0;34m(\u001b[0m\u001b[0mtimes\u001b[0m\u001b[0;34m)\u001b[0m\u001b[0;34m:\u001b[0m\u001b[0;34m\u001b[0m\u001b[0;34m\u001b[0m\u001b[0m\n\u001b[0;32m--> 126\u001b[0;31m                 \u001b[0;34m(\u001b[0m\u001b[0msuccess\u001b[0m\u001b[0;34m,\u001b[0m \u001b[0massigned\u001b[0m\u001b[0;34m,\u001b[0m \u001b[0mposterior_probs\u001b[0m\u001b[0;34m,\u001b[0m \u001b[0mwinning_probs\u001b[0m\u001b[0;34m)\u001b[0m \u001b[0;34m=\u001b[0m \u001b[0mself\u001b[0m\u001b[0;34m.\u001b[0m\u001b[0mThompson_sampling\u001b[0m\u001b[0;34m(\u001b[0m\u001b[0;34m)\u001b[0m\u001b[0;34m\u001b[0m\u001b[0;34m\u001b[0m\u001b[0m\n\u001b[0m\u001b[1;32m    127\u001b[0m                 \u001b[0mfinal_win_arm\u001b[0m\u001b[0;34m[\u001b[0m\u001b[0mi\u001b[0m\u001b[0;34m]\u001b[0m \u001b[0;34m=\u001b[0m \u001b[0mnp\u001b[0m\u001b[0;34m.\u001b[0m\u001b[0margmax\u001b[0m\u001b[0;34m(\u001b[0m\u001b[0mwinning_probs\u001b[0m\u001b[0;34m[\u001b[0m\u001b[0;34m-\u001b[0m\u001b[0;36m1\u001b[0m\u001b[0;34m]\u001b[0m\u001b[0;34m)\u001b[0m\u001b[0;34m\u001b[0m\u001b[0;34m\u001b[0m\u001b[0m\n\u001b[1;32m    128\u001b[0m                 \u001b[0mfinal_win_probs\u001b[0m\u001b[0;34m[\u001b[0m\u001b[0mi\u001b[0m\u001b[0;34m]\u001b[0m \u001b[0;34m=\u001b[0m \u001b[0mwinning_probs\u001b[0m\u001b[0;34m[\u001b[0m\u001b[0;34m-\u001b[0m\u001b[0;36m1\u001b[0m\u001b[0;34m]\u001b[0m\u001b[0;34m\u001b[0m\u001b[0;34m\u001b[0m\u001b[0m\n",
            "\u001b[0;32m<ipython-input-79-f0ea6f6ed63b>\u001b[0m in \u001b[0;36mThompson_sampling\u001b[0;34m(self)\u001b[0m\n\u001b[1;32m     75\u001b[0m                 \u001b[0massigned\u001b[0m\u001b[0;34m[\u001b[0m\u001b[0mi\u001b[0m\u001b[0;34m]\u001b[0m \u001b[0;34m=\u001b[0m \u001b[0massigned\u001b[0m\u001b[0;34m[\u001b[0m\u001b[0mi\u001b[0m\u001b[0;34m-\u001b[0m\u001b[0;36m1\u001b[0m\u001b[0;34m]\u001b[0m\u001b[0;34m+\u001b[0m \u001b[0mnew_assigned\u001b[0m\u001b[0;34m\u001b[0m\u001b[0;34m\u001b[0m\u001b[0m\n\u001b[1;32m     76\u001b[0m                 \u001b[0msuccess\u001b[0m\u001b[0;34m[\u001b[0m\u001b[0mi\u001b[0m\u001b[0;34m]\u001b[0m \u001b[0;34m=\u001b[0m \u001b[0msuccess\u001b[0m\u001b[0;34m[\u001b[0m\u001b[0mi\u001b[0m\u001b[0;34m-\u001b[0m\u001b[0;36m1\u001b[0m\u001b[0;34m]\u001b[0m\u001b[0;34m+\u001b[0m \u001b[0mnew_success\u001b[0m\u001b[0;34m\u001b[0m\u001b[0;34m\u001b[0m\u001b[0m\n\u001b[0;32m---> 77\u001b[0;31m                 \u001b[0mwinning_probs\u001b[0m\u001b[0;34m[\u001b[0m\u001b[0mi\u001b[0m\u001b[0;34m]\u001b[0m \u001b[0;34m=\u001b[0m \u001b[0mself\u001b[0m\u001b[0;34m.\u001b[0m\u001b[0mbest_arm\u001b[0m\u001b[0;34m(\u001b[0m\u001b[0msuccess\u001b[0m\u001b[0;34m[\u001b[0m\u001b[0mi\u001b[0m\u001b[0;34m]\u001b[0m\u001b[0;34m,\u001b[0m \u001b[0massigned\u001b[0m\u001b[0;34m[\u001b[0m\u001b[0mi\u001b[0m\u001b[0;34m]\u001b[0m\u001b[0;34m)\u001b[0m\u001b[0;34m\u001b[0m\u001b[0;34m\u001b[0m\u001b[0m\n\u001b[0m\u001b[1;32m     78\u001b[0m                 \u001b[0;32mif\u001b[0m \u001b[0mwinning_probs\u001b[0m\u001b[0;34m[\u001b[0m\u001b[0mi\u001b[0m\u001b[0;34m-\u001b[0m\u001b[0;36m1\u001b[0m\u001b[0;34m,\u001b[0m\u001b[0;36m0\u001b[0m\u001b[0;34m]\u001b[0m \u001b[0;34m==\u001b[0m \u001b[0;36m0\u001b[0m\u001b[0;34m:\u001b[0m\u001b[0;34m\u001b[0m\u001b[0;34m\u001b[0m\u001b[0m\n\u001b[1;32m     79\u001b[0m                     \u001b[0mcount0\u001b[0m \u001b[0;34m+=\u001b[0m \u001b[0;36m1\u001b[0m\u001b[0;34m\u001b[0m\u001b[0;34m\u001b[0m\u001b[0m\n",
            "\u001b[0;32m<ipython-input-79-f0ea6f6ed63b>\u001b[0m in \u001b[0;36mbest_arm\u001b[0;34m(self, s, asgn)\u001b[0m\n\u001b[1;32m     23\u001b[0m         \u001b[0mselection_table\u001b[0m \u001b[0;34m=\u001b[0m \u001b[0;34m[\u001b[0m\u001b[0;34m]\u001b[0m\u001b[0;34m\u001b[0m\u001b[0;34m\u001b[0m\u001b[0m\n\u001b[1;32m     24\u001b[0m         \u001b[0;32mfor\u001b[0m \u001b[0mi\u001b[0m \u001b[0;32min\u001b[0m \u001b[0mrange\u001b[0m\u001b[0;34m(\u001b[0m\u001b[0mself\u001b[0m\u001b[0;34m.\u001b[0m\u001b[0mK\u001b[0m\u001b[0;34m)\u001b[0m\u001b[0;34m:\u001b[0m\u001b[0;34m\u001b[0m\u001b[0;34m\u001b[0m\u001b[0m\n\u001b[0;32m---> 25\u001b[0;31m             \u001b[0mtheta\u001b[0m \u001b[0;34m=\u001b[0m \u001b[0mnp\u001b[0m\u001b[0;34m.\u001b[0m\u001b[0mrandom\u001b[0m\u001b[0;34m.\u001b[0m\u001b[0mbeta\u001b[0m\u001b[0;34m(\u001b[0m\u001b[0mnew_alpha\u001b[0m\u001b[0;34m[\u001b[0m\u001b[0mi\u001b[0m\u001b[0;34m]\u001b[0m\u001b[0;34m,\u001b[0m \u001b[0mnew_beta\u001b[0m\u001b[0;34m[\u001b[0m\u001b[0mi\u001b[0m\u001b[0;34m]\u001b[0m\u001b[0;34m,\u001b[0m \u001b[0mdraws\u001b[0m\u001b[0;34m)\u001b[0m\u001b[0;34m\u001b[0m\u001b[0;34m\u001b[0m\u001b[0m\n\u001b[0m\u001b[1;32m     26\u001b[0m             \u001b[0mselection_table\u001b[0m\u001b[0;34m.\u001b[0m\u001b[0mappend\u001b[0m\u001b[0;34m(\u001b[0m\u001b[0mtheta\u001b[0m\u001b[0;34m)\u001b[0m\u001b[0;34m\u001b[0m\u001b[0;34m\u001b[0m\u001b[0m\n\u001b[1;32m     27\u001b[0m \u001b[0;34m\u001b[0m\u001b[0m\n",
            "\u001b[0;31mKeyboardInterrupt\u001b[0m: "
          ]
        }
      ],
      "source": [
        "# experiment 5\n",
        "k = 9 # number of treatments\n",
        "probs = [0.2] + [0.1]*8 # true value\n",
        "np.random.seed(99332)\n",
        "first = 400\n",
        "periods = 10\n",
        "sim5 = MAB(probs,k,first, periods)\n",
        "(s5_ts_final_win_arm, s5_ts_final_win_probs, s5_ts_final_assignment, s5_ts_estimation) = sim5.do_replication(5000, \"TS\")\n",
        "# (s5_st_final_win_arm, s5_st_final_win_probs, s5_st_final_assignment, s5_st_estimation) = sim5.do_replication(5000, \"static\")\n"
      ]
    },
    {
      "cell_type": "code",
      "execution_count": null,
      "metadata": {
        "id": "PxCdZC3qllny"
      },
      "outputs": [],
      "source": [
        "# experiment 2\n",
        "first = 200\n",
        "periods = 20\n",
        "sim2 = MAB(probs,k,first, periods)\n",
        "(s2_ts_final_win_arm, s2_ts_final_win_probs, s2_ts_final_assignment, s2_ts_estimation) = sim2.do_replication(5000, \"TS\")\n",
        "(s2_st_final_win_arm, s2_st_final_win_probs, s2_st_final_assignment, s2_st_estimation) = sim2.do_replication(5000, \"static\")\n"
      ]
    },
    {
      "cell_type": "code",
      "execution_count": null,
      "metadata": {
        "id": "3q8iCunMbica"
      },
      "outputs": [],
      "source": [
        "# experiment 7\n",
        "first = 80\n",
        "periods = 50\n",
        "sim7 = MAB(probs,k,first, periods)\n",
        "(s7_ts_final_win_arm, s7_ts_final_win_probs, s7_ts_final_assignment, s7_ts_estimation) = sim7.do_replication(5000, \"TS\")\n",
        "# (s2_st_final_win_arm, s2_st_final_win_probs, s2_st_final_assignment, s2_st_estimation) = sim2.do_replication(5000, \"static\")"
      ]
    },
    {
      "cell_type": "code",
      "execution_count": null,
      "metadata": {
        "colab": {
          "background_save": true,
          "base_uri": "https://localhost:8080/"
        },
        "id": "YngEV_0aj5iI",
        "outputId": "188ecb6f-0428-49c0-f003-bb79a438ebdb"
      },
      "outputs": [
        {
          "name": "stderr",
          "output_type": "stream",
          "text": [
            "<ipython-input-107-5e2d898d003b>:66: RuntimeWarning: invalid value encountered in true_divide\n",
            "  posterior_probs[0] = success[0]/ assigned[0]\n"
          ]
        },
        {
          "name": "stdout",
          "output_type": "stream",
          "text": [
            "{'ATE': array([0.19968857, 0.08504902, 0.08509751, 0.08514692, 0.08507756,\n",
            "       0.08491323, 0.08443989, 0.08503525, 0.08474891]), 'RMSE': array([0.00705397, 0.03732316, 0.03771846, 0.03682221, 0.03767545,\n",
            "       0.03750051, 0.03750083, 0.03712019, 0.03775847]), 'Coverage': 0.921}\n"
          ]
        },
        {
          "name": "stderr",
          "output_type": "stream",
          "text": [
            "<ipython-input-107-5e2d898d003b>:89: RuntimeWarning: invalid value encountered in true_divide\n",
            "  posterior_probs[0] = success[0]/ assigned[0]\n"
          ]
        }
      ],
      "source": [
        "# experiment 6\n",
        "k = 9 # number of treatments\n",
        "probs = [0.2] + [0.1]*8 # true value\n",
        "np.random.seed(99332)\n",
        "first = 40\n",
        "periods = 100\n",
        "sim6 = MAB(probs,k,first, periods)\n",
        "(s6_ts_final_win_arm, s6_ts_final_win_probs, s6_ts_final_assignment, s6_ts_estimation) = sim6.do_replication(5000, \"TS\")\n",
        "# (s6_st_final_win_arm, s6_st_final_win_probs, s6_st_final_assignment, s6_st_estimation) = sim6.do_replication(5000, \"static\")\n"
      ]
    },
    {
      "cell_type": "markdown",
      "metadata": {
        "id": "fqDO4H7HjtGv"
      },
      "source": [
        "# Social network"
      ]
    },
    {
      "cell_type": "code",
      "execution_count": null,
      "metadata": {
        "colab": {
          "base_uri": "https://localhost:8080/"
        },
        "id": "tmNcQhXYjonW",
        "outputId": "c5887fcf-31c2-49ba-f871-c859fdb93bc9"
      },
      "outputs": [
        {
          "name": "stdout",
          "output_type": "stream",
          "text": [
            "Looking in indexes: https://pypi.org/simple, https://us-python.pkg.dev/colab-wheels/public/simple/\n",
            "Requirement already satisfied: networkx in /usr/local/lib/python3.8/dist-packages (2.8.8)\n"
          ]
        }
      ],
      "source": [
        "!pip install networkx"
      ]
    },
    {
      "cell_type": "code",
      "execution_count": null,
      "metadata": {
        "colab": {
          "base_uri": "https://localhost:8080/"
        },
        "id": "yjw4mgEGkAds",
        "outputId": "663cae0d-0b76-4dc5-a376-d0e39ea70f5e"
      },
      "outputs": [
        {
          "name": "stdout",
          "output_type": "stream",
          "text": [
            "Mounted at /content/drive\n",
            "/content/drive/MyDrive\n"
          ]
        }
      ],
      "source": [
        "import networkx as nx\n",
        "from google.colab import drive\n",
        "drive.mount('/content/drive')\n",
        "%cd drive/MyDrive"
      ]
    },
    {
      "cell_type": "code",
      "execution_count": null,
      "metadata": {
        "colab": {
          "base_uri": "https://localhost:8080/"
        },
        "id": "G7uPlR3LkTyW",
        "outputId": "1da12aab-732c-42c8-a32e-a97259ad49f4"
      },
      "outputs": [
        {
          "name": "stdout",
          "output_type": "stream",
          "text": [
            "All neighbors for Node  1  --->  [0, 48, 53, 54, 73, 88, 92, 119, 126, 133, 194, 236, 280, 299, 315, 322, 346]\n",
            "All neighbors for Node  20  --->  [0, 2, 14, 41, 44, 111, 115, 149, 162, 214, 226, 312, 326, 333, 343]\n",
            "All neighbors for Node  40  --->  [0, 21, 25, 26, 29, 56, 67, 72, 77, 113, 132, 133, 141, 142, 158, 169, 172, 199, 200, 203, 212, 213, 224, 231, 232, 239, 257, 258, 265, 271, 272, 274, 277, 280, 298, 304, 307, 315, 317, 322, 325, 329, 332, 334]\n",
            "All neighbors for Node  65  --->  [0, 7, 13, 25, 82, 118, 203, 252, 261, 297, 314, 339]\n",
            "All neighbors for Node  75  --->  [0, 9, 56, 67, 85, 170, 188, 200, 258, 272, 274, 304, 322, 323]\n",
            "All neighbors for Node  90  --->  [0, 179]\n",
            "All neighbors for Node  1000  --->  [107, 924, 974, 985, 1010, 1127, 1134, 1228, 1304, 1474, 1640, 1667, 1703, 1725, 1759, 1840]\n"
          ]
        }
      ],
      "source": [
        "G1 =nx.read_edgelist(\"facebook_combined.txt\", create_using = nx.Graph(), nodetype=int)\n",
        "neigh = [1,20,40,65,75,90,1000]\n",
        "for i in range(len(neigh)):\n",
        "    all_neighbors = list(nx.classes.function.all_neighbors(G1,neigh[i]))\n",
        "    print(\"All neighbors for Node \", str(neigh[i]),\" ---> \", str(all_neighbors))"
      ]
    },
    {
      "cell_type": "code",
      "execution_count": null,
      "metadata": {
        "id": "d_mw-ottkaSu"
      },
      "outputs": [],
      "source": [
        "nx.average_node_connectivity(G1)"
      ]
    }
  ],
  "metadata": {
    "colab": {
      "provenance": []
    },
    "gpuClass": "standard",
    "kernelspec": {
      "display_name": "Python 3",
      "name": "python3"
    },
    "language_info": {
      "name": "python"
    }
  },
  "nbformat": 4,
  "nbformat_minor": 0
}